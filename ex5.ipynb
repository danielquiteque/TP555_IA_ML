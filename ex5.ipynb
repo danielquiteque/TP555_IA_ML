{
 "cells": [
  {
   "cell_type": "markdown",
   "metadata": {},
   "source": [
    "**5. O que torna as árvores-extras (extra-trees) mais aleatórias do que as florestas aleatórias comuns? Como essa aleatoriedade extra pode ajudar? As árvores-extras são mais lentas ou mais rápidas que as florestas aleatórias comuns?**\n",
    "\n",
    "R: O que torna as árvores-extras (extra-trees) mais aleatórias do que as florestas aleatórias comuns é o seguinte: Quando uma árvore é gerada numa floresta aleatória, apenas um subconjunto aleatório das features é considerado para o split i(isso também é verdadeiro para Extra-trees).  No entanto, as Extra-trees vão além, ao invés de procurar um limiar óptimo como árvores de decisão normais, eles usam limiares aleatórios para cada feature. Essa aleatoriedade extra pode ajudar, pois se uma floresta aleatória sofre com sobreajuste, as extra-trees podem ter um desempenho melhor. O treinamento das extra-trees é mais rápido que  as florestas aleatórias comuns"
   ]
  },
  {
   "cell_type": "code",
   "execution_count": null,
   "metadata": {},
   "outputs": [],
   "source": []
  }
 ],
 "metadata": {
  "kernelspec": {
   "display_name": "Python 3",
   "language": "python",
   "name": "python3"
  },
  "language_info": {
   "codemirror_mode": {
    "name": "ipython",
    "version": 3
   },
   "file_extension": ".py",
   "mimetype": "text/x-python",
   "name": "python",
   "nbconvert_exporter": "python",
   "pygments_lexer": "ipython3",
   "version": "3.7.6"
  }
 },
 "nbformat": 4,
 "nbformat_minor": 4
}
