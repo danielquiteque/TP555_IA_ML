{
 "cells": [
  {
   "cell_type": "markdown",
   "metadata": {},
   "source": [
    "**3. É possível acelerar o treinamento de um bagging ensemble distribuindo-o por vários servidores? E quanto ao pasting ensemble ou floresta aleatória?**\n",
    "\n",
    "R: Sim. É possível acelerar o treinamento do **bagging ensemble**, **pasting ensemble** e **florestas aleatórias** distribuindo por vários servidores, visto que cada preditor é independente dos outros. "
   ]
  },
  {
   "cell_type": "code",
   "execution_count": null,
   "metadata": {},
   "outputs": [],
   "source": []
  }
 ],
 "metadata": {
  "kernelspec": {
   "display_name": "Python 3",
   "language": "python",
   "name": "python3"
  },
  "language_info": {
   "codemirror_mode": {
    "name": "ipython",
    "version": 3
   },
   "file_extension": ".py",
   "mimetype": "text/x-python",
   "name": "python",
   "nbconvert_exporter": "python",
   "pygments_lexer": "ipython3",
   "version": "3.7.6"
  }
 },
 "nbformat": 4,
 "nbformat_minor": 4
}
