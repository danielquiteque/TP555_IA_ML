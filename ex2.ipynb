{
 "cells": [
  {
   "cell_type": "markdown",
   "metadata": {},
   "source": [
    "**2. Qual é a diferença entre classificadores de votação rígida e suave?**\n",
    "\n",
    "R: A diferença entre os classificadores de votação rígida e suave é que os **classificadores de votação rígida** contam os votos de cada classificador em um grupo de predictores (ensemble) e escolhe a classe que recebeu mais votos. Já o de **votação suave** calcula a probabilidade média estimada para cada classe e escolhe aquela classe com maior probabilidade."
   ]
  },
  {
   "cell_type": "code",
   "execution_count": null,
   "metadata": {},
   "outputs": [],
   "source": []
  }
 ],
 "metadata": {
  "kernelspec": {
   "display_name": "Python 3",
   "language": "python",
   "name": "python3"
  },
  "language_info": {
   "codemirror_mode": {
    "name": "ipython",
    "version": 3
   },
   "file_extension": ".py",
   "mimetype": "text/x-python",
   "name": "python",
   "nbconvert_exporter": "python",
   "pygments_lexer": "ipython3",
   "version": "3.7.6"
  }
 },
 "nbformat": 4,
 "nbformat_minor": 4
}
